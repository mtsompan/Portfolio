{
 "cells": [
  {
   "cell_type": "code",
   "execution_count": null,
   "id": "d4c5ec71",
   "metadata": {},
   "outputs": [],
   "source": [
    "import matplotlib.pyplot as plt\n",
    "import numpy as np\n",
    "from sklearn.linear_model import LinearRegression\n",
    "from sklearn.metrics import r2_score\n",
    "from scipy.optimize import curve_fit"
   ]
  },
  {
   "cell_type": "code",
   "execution_count": null,
   "id": "5be9fe2a",
   "metadata": {},
   "outputs": [],
   "source": [
    "file_name = input(\"Enter the file name: \") \n",
    "#file_name = '.txt' \n",
    "\n",
    "#initial_water_slope = input(\"Enter the initial water slope with a dot as decimal: \") \n",
    "Initial_water_slope = 0.0025 # Calculate first the initial slope of water. \n",
    "\n",
    "concentration = float(input(\"Enter the nanoparticle concentration values: \")) \n",
    "#concentration = 1.0 # mg / mL units \n",
    "\n",
    "required_R2 = 0.98 \n",
    "#required_R2 = input(\"Enter a required adjusted R-squared value: \") \n",
    "\n",
    "# If the fitting is incorrect, lower the required_R2, the points_for_fitting or both. \n",
    "points_for_fitting = 200 \n",
    "#points_for_fitting = input(\"Enter the number of points of the linear fitting: \") "
   ]
  },
  {
   "cell_type": "code",
   "execution_count": null,
   "id": "eb537f0a",
   "metadata": {},
   "outputs": [],
   "source": [
    "def process_file(file_name):\n",
    "    # Read the values from the txt file. \n",
    "    with open(file_name, 'r') as file:\n",
    "        lines = file.readlines()\n",
    "\n",
    "    # Filter out non-numeric lines and values > 100 (Samples don't reach such high temperatures). \n",
    "    values = []\n",
    "    for line in lines:\n",
    "        try:\n",
    "            value = float(line.strip())\n",
    "            if value <= 100:\n",
    "                values.append(value)\n",
    "        except ValueError:\n",
    "            pass\n",
    "\n",
    "    # Remove values where the mean of the adjacent values is lower by 0.5 units. \n",
    "    filtered_values = []\n",
    "    for i in range(1, len(values)-1):\n",
    "        if (values[i-1] + values[i+1]) / 2 >= values[i] - 0.5:\n",
    "            filtered_values.append(values[i])\n",
    "\n",
    "    # Try linear regressions starting from each row. \n",
    "    for i in range(len(filtered_values) - points_for_fitting):\n",
    "        x_values = [0.4 * j for j in range(i, i + points_for_fitting)]\n",
    "        y_values = filtered_values[i:i + points_for_fitting]\n",
    "\n",
    "        # Perform linear regression. \n",
    "        model = LinearRegression()\n",
    "        x_values_reshaped = np.array(x_values).reshape(-1, 1)\n",
    "        model.fit(x_values_reshaped, y_values)\n",
    "\n",
    "        # Calculate adjusted R-squared. \n",
    "        predictions = model.predict(x_values_reshaped)\n",
    "        r2_adj = 1 - (1 - r2_score(y_values, predictions)) * ((len(y_values) - 1) / (len(y_values) - len(model.coef_) - 1))\n",
    "\n",
    "        # If adjusted R-squared is greater than, or equal to a certain value, plot the graph and return. \n",
    "        if r2_adj >= required_R2:\n",
    "            x_all = [0.4 * k for k in range(len(filtered_values))]\n",
    "            regression_line = model.predict(np.array(x_all).reshape(-1, 1))\n",
    "\n",
    "            # Save intercept and slope\n",
    "            intercept = model.intercept_\n",
    "            slope = model.coef_[0]\n",
    "\n",
    "            plt.plot(x_all, filtered_values, marker='o', label='Temperature')\n",
    "            plt.plot(x_all, regression_line, color='red', label='Regression Line')\n",
    "            plt.xlabel('Time (s)')\n",
    "            plt.ylabel('Temperature (°C)')\n",
    "            plt.title('Temperature over Time with Regression Line')\n",
    "            plt.legend()\n",
    "            plt.grid(True)\n",
    "            plt.show()\n",
    "\n",
    "            return x_all, filtered_values, intercept, slope, r2_adj, regression_line \n",
    "\n",
    "\n",
    "    print(\"No regression with adjusted R-squared >= 0.99 found.\")\n",
    "    return None"
   ]
  },
  {
   "cell_type": "code",
   "execution_count": null,
   "id": "0761220a",
   "metadata": {},
   "outputs": [],
   "source": [
    "result = process_file(file_name) \n",
    "\n",
    "if result:\n",
    "    x_all, filtered_values, intercept, slope, r2_adj, regression_line = result \n",
    "    print(f\"Intercept: {intercept}\") \n",
    "    print(f\"Slope: {slope}\") \n",
    "    print(f\"Adjusted R-squared: {r2_adj}\") "
   ]
  },
  {
   "cell_type": "code",
   "execution_count": null,
   "id": "cc6d9c35",
   "metadata": {},
   "outputs": [],
   "source": [
    "# Specific heat of water. \n",
    "C_H2O = 4.186 # J / (g * K) units. \n",
    "\n",
    "# Calculating the Specific Loss Power (SLP) index. \n",
    "SLP = (C_H2O * (slope - Initial_water_slope)) / (concentration / 1000) # Watt per gram units \n",
    "\n",
    "print(\"The SLP of this sample is: \", SLP, \"W/g\")"
   ]
  },
  {
   "cell_type": "code",
   "execution_count": null,
   "id": "d9b2ced6",
   "metadata": {},
   "outputs": [],
   "source": []
  }
 ],
 "metadata": {
  "kernelspec": {
   "display_name": "Python 3 (ipykernel)",
   "language": "python",
   "name": "python3"
  },
  "language_info": {
   "codemirror_mode": {
    "name": "ipython",
    "version": 3
   },
   "file_extension": ".py",
   "mimetype": "text/x-python",
   "name": "python",
   "nbconvert_exporter": "python",
   "pygments_lexer": "ipython3",
   "version": "3.9.7"
  }
 },
 "nbformat": 4,
 "nbformat_minor": 5
}
